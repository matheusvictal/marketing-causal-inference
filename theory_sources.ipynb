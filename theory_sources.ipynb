{
 "cells": [
  {
   "cell_type": "markdown",
   "id": "8a17c27a",
   "metadata": {},
   "source": [
    "# Causal inference bibliography\n",
    "\n",
    "Books:\n",
    "* Causal Inference for The Brave and True: https://matheusfacure.github.io/python-causality-handbook/landing-page.html\n",
    "* Causal Inference In Python: Applying Causal Inference In The Tech Industry - Matheus Facure \n",
    "\n",
    "<br>\n",
    "<br>\n",
    "\n",
    "### Cases:\n",
    "Nubank: \n",
    "* Aplicações de Machine Learning e Inferência Causal em Marketing | Nubank ML Meetup: https://www.youtube.com/watch?v=a7ZZCdm40Ik\n",
    "\n",
    "### Data sources:\n",
    "\n",
    "* “A Large Scale Benchmark for Uplift Modeling” Eustache Diemert, Artem Betlei, Christophe Renaudin; (Criteo AI Lab), Massih-Reza Amini (LIG, Grenoble INP): https://ailab.criteo.com/criteo-uplift-prediction-dataset/\n"
   ]
  },
  {
   "cell_type": "markdown",
   "id": "6853b9a1",
   "metadata": {},
   "source": []
  }
 ],
 "metadata": {
  "language_info": {
   "name": "python"
  }
 },
 "nbformat": 4,
 "nbformat_minor": 5
}
